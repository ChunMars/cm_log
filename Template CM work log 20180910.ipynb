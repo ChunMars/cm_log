{
 "cells": [
  {
   "cell_type": "markdown",
   "metadata": {},
   "source": [
    "### This is CM worklog example ###\n",
    "- author: CM\n",
    "- date: 2018.9.10\n",
    "- Help info: I use this markdown doc to record ideas, methods and results of my study and analysis. \n"
   ]
  },
  {
   "cell_type": "markdown",
   "metadata": {},
   "source": [
    "### study name ###\n",
    "\n",
    "***Abstract***\n",
    "- aim:\n",
    "- hypothesis:\n",
    "- method: \n",
    "- outcome measures:\n",
    "- key findings:\n",
    "- key reference:\n",
    "- keywords:\n",
    "- project time cost / Gantt Chart "
   ]
  },
  {
   "cell_type": "markdown",
   "metadata": {},
   "source": [
    "***Log***"
   ]
  },
  {
   "cell_type": "markdown",
   "metadata": {},
   "source": [
    "log at 2018.9.10"
   ]
  },
  {
   "cell_type": "code",
   "execution_count": null,
   "metadata": {},
   "outputs": [],
   "source": []
  }
 ],
 "metadata": {
  "kernelspec": {
   "display_name": "Python 3",
   "language": "python",
   "name": "python3"
  },
  "language_info": {
   "codemirror_mode": {
    "name": "ipython",
    "version": 3
   },
   "file_extension": ".py",
   "mimetype": "text/x-python",
   "name": "python",
   "nbconvert_exporter": "python",
   "pygments_lexer": "ipython3",
   "version": "3.6.4"
  }
 },
 "nbformat": 4,
 "nbformat_minor": 2
}
